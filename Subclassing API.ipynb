{
 "cells": [
  {
   "cell_type": "markdown",
   "metadata": {},
   "source": [
    "# Subclassing API - Tensorflow 2.0"
   ]
  },
  {
   "cell_type": "code",
   "execution_count": 69,
   "metadata": {},
   "outputs": [],
   "source": [
    "import tensorflow as tf\n",
    "import numpy as np"
   ]
  },
  {
   "cell_type": "markdown",
   "metadata": {},
   "source": [
    "## Be sure to used Tensorflow 2.0"
   ]
  },
  {
   "cell_type": "code",
   "execution_count": 70,
   "metadata": {},
   "outputs": [],
   "source": [
    "assert hasattr(tf, \"function\") # Be sure to use tensorflow 2.0"
   ]
  },
  {
   "cell_type": "markdown",
   "metadata": {},
   "source": [
    "### Import the dataset"
   ]
  },
  {
   "cell_type": "code",
   "execution_count": 104,
   "metadata": {},
   "outputs": [],
   "source": [
    "from sklearn.preprocessing import StandardScaler\n",
    "# Fashio MNIST\n",
    "fashion_mnist = tf.keras.datasets.fashion_mnist\n",
    "(images, targets), (_, _) = fashion_mnist.load_data()\n",
    "# Get only a subpart of the dataset\n",
    "images = images[:10000]\n",
    "targets = targets [:10000]\n",
    "# Reshape the dataset and convert to float\n",
    "images = images.reshape(-1, 784)\n",
    "images = images.astype(float)\n",
    "# Normalize images\n",
    "scaler = StandardScaler()\n",
    "images = scaler.fit_transform(images)"
   ]
  },
  {
   "cell_type": "markdown",
   "metadata": {},
   "source": [
    "## Create a model using the SubCalssing API\n",
    "The following call is not working because self.output is already set by the parent: tf.keras.Model"
   ]
  },
  {
   "cell_type": "code",
   "execution_count": 72,
   "metadata": {},
   "outputs": [
    {
     "name": "stdout",
     "output_type": "stream",
     "text": [
      "e= can't set attribute\n"
     ]
    }
   ],
   "source": [
    "class CustomModel(tf.keras.Model):\n",
    "    \n",
    "    def __init__(self):\n",
    "        super(CustomModel, self).__init__()\n",
    "\n",
    "        # First in the init method you need to instanciate the layers you will use\n",
    "        self.first_layer = tf.keras.layers.Dense(64)\n",
    "\n",
    "        # WARNING: DO NOT CALL ONE OF YOUR CLASS VARIABLE: output\n",
    "        self.output = tf.keras.layers.Dense(10, activation='softmax', name=\"d1\")\n",
    "\n",
    "    def call(self, x):\n",
    "        # Then in the call method you can execute your operations\n",
    "        layer1_out = self.first_layer(x)\n",
    "        output = self.output_layer(layer1_out)\n",
    "        return output\n",
    "\n",
    "try:\n",
    "    model = CustomModel()\n",
    "except Exception as e:\n",
    "    print(\"e=\", e)"
   ]
  },
  {
   "cell_type": "code",
   "execution_count": 89,
   "metadata": {},
   "outputs": [],
   "source": [
    "class CustomModel(tf.keras.Model):\n",
    "    \n",
    "    def __init__(self):\n",
    "        super(CustomModel, self).__init__()        \n",
    "        # First in the init method you need to instanciate the layers you will use\n",
    "        self.first_layer = tf.keras.layers.Dense(64, activation=\"relu\", name=\"first_layer\")\n",
    "        self.output_layer = tf.keras.layers.Dense(10, activation='softmax', name=\"output_layer\")\n",
    "\n",
    "    def call(self, x):        \n",
    "        # Then in the call method you can execute your operations\n",
    "        prev = self.first_layer(x)        \n",
    "        out = self.output_layer(prev)\n",
    "        return out\n",
    "\n",
    "model = CustomModel()"
   ]
  },
  {
   "cell_type": "markdown",
   "metadata": {},
   "source": [
    "The cell above is now working: We can call model.predict as we would do with a basic keras model. <br> \n",
    "The <b>predict</b> method of the parent class called the <b>call</b> method from the <b>CustomModel</b> class"
   ]
  },
  {
   "cell_type": "code",
   "execution_count": 87,
   "metadata": {},
   "outputs": [
    {
     "data": {
      "text/plain": [
       "array([[0.01827161, 0.322489  , 0.00270505, 0.36526778, 0.02871654,\n",
       "        0.031924  , 0.00852117, 0.16392946, 0.00924668, 0.04892864]],\n",
       "      dtype=float32)"
      ]
     },
     "execution_count": 87,
     "metadata": {},
     "output_type": "execute_result"
    }
   ],
   "source": [
    "model.predict(images[0:1])"
   ]
  },
  {
   "cell_type": "markdown",
   "metadata": {},
   "source": [
    "### Train the model\n",
    "\n",
    "The model can be used as a normal keras model. Thus, to train it you just need to compile and to fit the model."
   ]
  },
  {
   "cell_type": "code",
   "execution_count": 116,
   "metadata": {},
   "outputs": [],
   "source": [
    "# Compile the model\n",
    "model.compile(\n",
    "    loss=\"sparse_categorical_crossentropy\",\n",
    "    optimizer=\"sgd\",\n",
    "    metrics=[\"accuracy\"]\n",
    ")"
   ]
  },
  {
   "cell_type": "code",
   "execution_count": 117,
   "metadata": {},
   "outputs": [
    {
     "name": "stdout",
     "output_type": "stream",
     "text": [
      ">>not training mode\n",
      "Epoch 1/10\n",
      "10000/10000==============================] - 0s 34us/sample - loss: 1.8545 - acc: 0.3805\n",
      "Epoch 2/10\n",
      "10000/10000==============================] - 0s 34us/sample - loss: 1.0880 - acc: 0.6375\n",
      "Epoch 3/10\n",
      "10000/10000==============================] - 0s 33us/sample - loss: 0.8838 - acc: 0.7138\n",
      "Epoch 4/10\n",
      "10000/10000==============================] - 0s 39us/sample - loss: 0.7853 - acc: 0.7448\n",
      "Epoch 5/10\n",
      "10000/10000==============================] - 0s 38us/sample - loss: 0.7245 - acc: 0.7620\n",
      "Epoch 6/10\n",
      "10000/10000==============================] - 0s 31us/sample - loss: 0.6809 - acc: 0.7737\n",
      "Epoch 7/10\n",
      "10000/10000==============================] - 0s 30us/sample - loss: 0.6475 - acc: 0.7825\n",
      "Epoch 8/10\n",
      "10000/10000==============================] - 0s 30us/sample - loss: 0.6212 - acc: 0.7887\n",
      "Epoch 9/10\n",
      "10000/10000==============================] - 0s 33us/sample - loss: 0.5988 - acc: 0.7963\n",
      "Epoch 10/10\n",
      "10000/10000==============================] - 0s 30us/sample - loss: 0.5808 - acc: 0.8008\n"
     ]
    }
   ],
   "source": [
    "history = model.fit(images, targets, epochs=10)"
   ]
  }
 ],
 "metadata": {
  "kernelspec": {
   "display_name": "Python 3",
   "language": "python",
   "name": "python3"
  },
  "language_info": {
   "codemirror_mode": {
    "name": "ipython",
    "version": 3
   },
   "file_extension": ".py",
   "mimetype": "text/x-python",
   "name": "python",
   "nbconvert_exporter": "python",
   "pygments_lexer": "ipython3",
   "version": "3.6.7"
  }
 },
 "nbformat": 4,
 "nbformat_minor": 2
}
